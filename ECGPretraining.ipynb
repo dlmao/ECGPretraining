{
 "cells": [
  {
   "cell_type": "code",
   "execution_count": 1,
   "id": "a4727577",
   "metadata": {},
   "outputs": [],
   "source": [
    "import wfdb\n",
    "import scipy\n",
    "import os\n",
    "import glob\n",
    "import subprocess"
   ]
  },
  {
   "cell_type": "code",
   "execution_count": 2,
   "id": "c10db35a",
   "metadata": {},
   "outputs": [],
   "source": [
    "\n",
    "DATA_ROOT = 'D:/ECG/processed/physionet2021'\n",
    "PHYSIONET_PATH = 'D:/ECG/physionet.org/files/challenge-2021/1.0.3/training'"
   ]
  },
  {
   "cell_type": "code",
   "execution_count": 3,
   "id": "250c2ded",
   "metadata": {},
   "outputs": [],
   "source": [
    "MANIFEST_PATH = f'{DATA_ROOT}/manifests'\n",
    "FINE_TUNE_MANIFEST = f'{MANIFEST_PATH}/cinc'\n",
    "TOTAL_MANIFEST = f'{MANIFEST_PATH}/total/train.tsv'\n",
    "PRE_TRAINING_MANIFEST = f\"{MANIFEST_PATH}/cmsc\""
   ]
  },
  {
   "cell_type": "code",
   "execution_count": 4,
   "id": "d56fb62d",
   "metadata": {},
   "outputs": [],
   "source": [
    "FAIRSEQ_SIG_DIR = 'C:/Users/david/Documents/PythonScripts/fairseq-signals'\n",
    "CONVERT_TO_CLOCS_MANIFEST = f'{FAIRSEQ_SIG_DIR}/fairseq_signals/data/ecg/preprocess/convert_to_clocs_manifest.py'\n",
    "PRE_TRAINING_CONFIG = f'{FAIRSEQ_SIG_DIR}/examples/w2v_cmsc/config/pretraining'\n",
    "FINE_TUNING_CONFIG = f'{FAIRSEQ_SIG_DIR}/examples/w2v_cmsc/config/finetuning/ecg_transformer'"
   ]
  },
  {
   "cell_type": "markdown",
   "id": "10be6939",
   "metadata": {},
   "source": [
    "## Preprocessing"
   ]
  },
  {
   "cell_type": "code",
   "execution_count": 5,
   "id": "da10c200",
   "metadata": {},
   "outputs": [],
   "source": [
    "cmd = f'python {FAIRSEQ_SIG_DIR}/fairseq_signals/data/ecg/preprocess/preprocess_physionet2021.py \\\n",
    "        {PHYSIONET_PATH} \\\n",
    "        --dest {DATA_ROOT} \\\n",
    "        --subset \"WFDB_Ga, WFDB_CPSC2018, WFDB_CPSC2018_2, WFDB_ChapmanShaoxing\"\\\n",
    "        --workers 1'"
   ]
  },
  {
   "cell_type": "code",
   "execution_count": 6,
   "id": "54547547",
   "metadata": {},
   "outputs": [
    {
     "name": "stdout",
     "output_type": "stream",
     "text": [
      "\n"
     ]
    }
   ],
   "source": [
    "result = subprocess.run(cmd, stdout=subprocess.PIPE, shell=True)\n",
    "print(result.stdout.decode('utf-8'))"
   ]
  },
  {
   "cell_type": "code",
   "execution_count": 10,
   "id": "eed0f99d",
   "metadata": {},
   "outputs": [],
   "source": [
    "cmd = f'python {FAIRSEQ_SIG_DIR}/fairseq_signals/data/ecg/preprocess/manifest.py \\\n",
    "        {DATA_ROOT} \\\n",
    "        --dest {MANIFEST_PATH} \\\n",
    "        --subset \"CPSC2018, CPSC2018_2, ChapmanShaoxing, Ga\" \\\n",
    "        --combine_subsets Ga'"
   ]
  },
  {
   "cell_type": "code",
   "execution_count": 11,
   "id": "6a4785c6",
   "metadata": {},
   "outputs": [
    {
     "name": "stdout",
     "output_type": "stream",
     "text": [
      "\n"
     ]
    }
   ],
   "source": [
    "result = subprocess.run(cmd, stdout=subprocess.PIPE, shell=True)\n",
    "print(result.stdout.decode('utf-8'))"
   ]
  },
  {
   "cell_type": "markdown",
   "id": "afe64cd4",
   "metadata": {},
   "source": [
    "## Pre-training"
   ]
  },
  {
   "cell_type": "code",
   "execution_count": 7,
   "id": "6f99ee22",
   "metadata": {},
   "outputs": [
    {
     "name": "stdout",
     "output_type": "stream",
     "text": [
      "python C:/Users/david/Documents/PythonScripts/fairseq-signals/fairseq_signals/data/ecg/preprocess/convert_to_clocs_manifest.py             D:/ECG/processed/physionet2021/manifests/total/train.tsv             --dest D:/ECG/processed/physionet2021/manifests\n"
     ]
    }
   ],
   "source": [
    "cmd = f\"python {CONVERT_TO_CLOCS_MANIFEST} \\\n",
    "            {TOTAL_MANIFEST} \\\n",
    "            --dest {MANIFEST_PATH}\"\n",
    "print(cmd)"
   ]
  },
  {
   "cell_type": "code",
   "execution_count": 8,
   "id": "0f273f03",
   "metadata": {},
   "outputs": [
    {
     "name": "stdout",
     "output_type": "stream",
     "text": [
      "\n"
     ]
    }
   ],
   "source": [
    "result = subprocess.run(cmd, stdout=subprocess.PIPE, shell=True)\n",
    "print(result.stdout.decode('utf-8'))"
   ]
  },
  {
   "cell_type": "code",
   "execution_count": 9,
   "id": "7aa7f092",
   "metadata": {},
   "outputs": [],
   "source": [
    "cmd = f\"fairseq-hydra-train \\\n",
    "            task.data={PRE_TRAINING_MANIFEST} \\\n",
    "            --config-dir {PRE_TRAINING_CONFIG} \\\n",
    "            --config-name w2v_cmsc_rlm_small\""
   ]
  },
  {
   "cell_type": "code",
   "execution_count": null,
   "id": "bb9160d3",
   "metadata": {},
   "outputs": [],
   "source": [
    "result = subprocess.run(cmd, stdout=subprocess.PIPE, shell=True)\n",
    "print(result.stdout.decode('utf-8'))"
   ]
  },
  {
   "cell_type": "markdown",
   "id": "28c57be8",
   "metadata": {},
   "source": [
    "## Fine-tuning"
   ]
  },
  {
   "cell_type": "code",
   "execution_count": 7,
   "id": "274ceff5",
   "metadata": {},
   "outputs": [],
   "source": [
    "PRETRAIN_CHECKPOINT = f'C:/Users/david/Documents/PythonScripts/ECGPretraining/outputs/2023-04-22/11-42-07/checkpoints/checkpoint100.pt'\n",
    "WEIGHTS_PATH = f'{PHYSIONET_PATH}/weights.csv'"
   ]
  },
  {
   "cell_type": "code",
   "execution_count": 6,
   "id": "2d764d66",
   "metadata": {},
   "outputs": [
    {
     "data": {
      "text/plain": [
       "'D:/ECG/physionet.org/files/challenge-2021/1.0.3/training/weights.csv'"
      ]
     },
     "execution_count": 6,
     "metadata": {},
     "output_type": "execute_result"
    }
   ],
   "source": [
    "WEIGHTS_PATH"
   ]
  },
  {
   "cell_type": "code",
   "execution_count": 7,
   "id": "6cb686e6",
   "metadata": {},
   "outputs": [],
   "source": [
    "cmd = f\"fairseq-hydra-train \\\n",
    "        task.data={FINE_TUNE_MANIFEST} \\\n",
    "        model.model_path={PRETRAIN_CHECKPOINT} \\\n",
    "        --config-dir {FINE_TUNING_CONFIG} \\\n",
    "        --config-name diagnosis\""
   ]
  },
  {
   "cell_type": "code",
   "execution_count": null,
   "id": "ab71cde5",
   "metadata": {
    "scrolled": true
   },
   "outputs": [],
   "source": [
    "result = subprocess.run(cmd, stdout=subprocess.PIPE, shell=True)\n",
    "print(result.stdout.decode('utf-8'))"
   ]
  },
  {
   "cell_type": "code",
   "execution_count": null,
   "id": "a076ff01",
   "metadata": {},
   "outputs": [],
   "source": []
  },
  {
   "cell_type": "code",
   "execution_count": 5,
   "id": "abcb9655",
   "metadata": {},
   "outputs": [],
   "source": [
    "FINETUNE_CHECKPOINT = f'C:/Users/david/Documents/PythonScripts/ECGPretraining/outputs/2023-04-29/16-42-15/checkpoints/checkpoint_last.pt'\n"
   ]
  },
  {
   "cell_type": "code",
   "execution_count": 8,
   "id": "178ec102",
   "metadata": {},
   "outputs": [],
   "source": [
    "cmd = f\"fairseq-hydra-validate \\\n",
    "        common_eval.path={FINETUNE_CHECKPOINT} \\\n",
    "        task.data={FINE_TUNE_MANIFEST} \\\n",
    "        model.model_path={PRETRAIN_CHECKPOINT} \\\n",
    "        --config-dir {FINE_TUNING_CONFIG} \\\n",
    "        --config-name diagnosis\""
   ]
  },
  {
   "cell_type": "code",
   "execution_count": 9,
   "id": "6b7f468c",
   "metadata": {},
   "outputs": [
    {
     "name": "stdout",
     "output_type": "stream",
     "text": [
      "[2023-04-29 22:31:31,255][fairseq_cli.validate][INFO] - loading model from C:/Users/david/Documents/PythonScripts/ECGPretraining/outputs/2023-04-29/16-42-15/checkpoints/checkpoint_last.pt\r\n",
      "[2023-04-29 22:31:32,897][fairseq_signals.models.transformer][INFO] - Loaded pre-trained model parameters from C:/Users/david/Documents/PythonScripts/ECGPretraining/outputs/2023-04-22/11-42-07/checkpoints/checkpoint100.pt\r\n",
      "[2023-04-29 22:31:32,915][fairseq_signals.utils.checkpoint_utils][INFO] - Loaded a checkpoint in 1.66s\r\n",
      "[2023-04-29 22:31:32,916][fairseq_cli.validate][INFO] - num. shared model params: 62,041,754 (num. trained: 62,041,754)\r\n",
      "[2023-04-29 22:31:32,917][fairseq_cli.validate][INFO] - num. expert model params: 0 (num. trained: 0)\r\n",
      "[2023-04-29 22:31:33,107][fairseq_cli.validate][INFO] - {'_name': None,\r\n",
      " 'checkpoint': {'_name': None, 'save_dir': 'checkpoints', 'restore_file': 'checkpoint_last.pt', 'finetune_from_model': None, 'reset_dataloader': False, 'reset_lr_scheduler': False, 'reset_meters': False, 'reset_optimizer': False, 'optimizer_overrides': '{}', 'save_interval': 1, 'save_interval_updates': 0, 'keep_interval_updates': -1, 'keep_interval_updates_pattern': -1, 'keep_last_epochs': 1, 'keep_best_checkpoints': -1, 'no_save': False, 'no_epoch_checkpoints': False, 'no_last_checkpoints': False, 'no_save_optimizer_state': False, 'best_checkpoint_metric': 'loss', 'maximize_best_checkpoint_metric': False, 'patience': -1, 'checkpoint_suffix': '', 'checkpoint_shard_count': 1, 'load_checkpoint_on_all_dp_ranks': False},\r\n",
      " 'common': {'_name': None, 'no_progress_bar': False, 'log_interval': 10, 'log_format': 'json', 'log_file': None, 'wandb_project': None, 'wandb_entity': None, 'seed': 1, 'fp16': False, 'memory_efficient_fp16': False, 'fp16_no_flatten_grads': False, 'fp16_init_scale': 128, 'fp16_scale_window': None, 'fp16_scale_tolerance': 0.0, 'on_cpu_convert_precision': False, 'min_loss_scale': 0.0001, 'threshold_loss_scale': None, 'empty_cache_freq': 0, 'all_gather_list_size': 2048000, 'model_parallel_size': 1, 'profile': False, 'reset_logging': False, 'suppress_crashes': False},\r\n",
      " 'common_eval': {'_name': None, 'path': None, 'quiet': False, 'model_overrides': '{}', 'results_path': None},\r\n",
      " 'criterion': {'_name': 'binary_cross_entropy_with_logits', 'weight': None, 'threshold': 0.5, 'report_auc': False, 'auc_average': 'macro', 'pos_weight': None, 'report_cinc_score': True, 'weights_file': 'D:/ECG/physionet.org/files/challenge-2021/1.0.3/training/weights.csv', 'multi_class_multi_label': False, 'per_log_keys': []},\r\n",
      " 'dataset': {'_name': None, 'num_workers': 6, 'skip_invalid_size_inputs_valid_test': False, 'max_tokens': None, 'batch_size': 128, 'required_batch_size_multiple': 8, 'data_buffer_size': 10, 'train_subset': 'train', 'valid_subset': 'valid,test', 'combine_valid_subsets': None, 'ignore_unused_valid_subsets': False, 'validate_interval': 1, 'validate_interval_updates': 0, 'validate_after_updates': 0, 'fixed_validation_seed': None, 'disable_validation': False, 'max_tokens_valid': None, 'batch_size_valid': 128, 'max_valid_steps': None, 'curriculum': 0, 'num_shards': 1, 'shard_id': 0},\r\n",
      " 'distributed_training': {'_name': None, 'distributed_world_size': 1, 'distributed_rank': 0, 'disributed_backend': 'nccl', 'distributed_init_method': None, 'distributed_port': 12355, 'device_id': 0, 'ddp_comm_hook': 'none', 'bucket_cap_mb': 25, 'fix_batches_to_gpus': False, 'find_unused_parameters': False, 'heartbeat_timeout': -1, 'broadcast_buffers': False, 'fp16': False, 'memory_efficient_fp16': False},\r\n",
      " 'job_logging_cfg': {'version': 1, 'formatters': {'simple': {'format': '[%(asctime)s][%(name)s][%(levelname)s] - %(message)s'}}, 'handlers': {'console': {'class': 'logging.StreamHandler', 'formatter': 'simple', 'stream': 'ext://sys.stdout'}, 'file': {'class': 'logging.FileHandler', 'formatter': 'simple', 'filename': 'hydra_train.log'}}, 'root': {'level': 'INFO', 'handlers': ['console', 'file']}, 'disable_existing_loggers': False},\r\n",
      " 'lr_scheduler': {'_name': 'fixed', 'force_anneal': None, 'lr_shrink': 0.1, 'warmup_updates': 0, 'lr': [5e-05]},\r\n",
      " 'model': {'_name': 'ecg_transformer_classifier', 'normalize': False, 'filter': False, 'data': 'D:/ECG/processed/physionet2021/manifests/cinc', 'args': None, 'encoder_layers': 12, 'encoder_embed_dim': 768, 'encoder_ffn_embed_dim': 3072, 'encoder_attention_heads': 12, 'layer_norm_first': False, 'dropout': 0.0, 'attention_dropout': 0.0, 'activation_dropout': 0.1, 'encoder_layerdrop': 0.0, 'dropout_input': 0.0, 'dropout_features': 0.0, 'extractor_mode': 'default', 'conv_feature_layers': '[(256, 2, 2)] * 4', 'in_d': 12, 'conv_bias': False, 'feature_grad_mult': 0.0, 'conv_pos': 128, 'conv_pos_groups': 16, 'model_path': 'C:/Users/david/Documents/PythonScripts/ECGPretraining/outputs/2023-04-22/11-42-07/checkpoints/checkpoint100.pt', 'no_pretrained_weights': False, 'freeze_finetune_updates': 0, 'final_dropout': 0.0, 'num_labels': 26},\r\n",
      " 'optimization': {'_name': None, 'max_epoch': 100, 'max_update': 320000, 'lr': [5e-05], 'stop_time_hours': 0.0, 'clip_norm': 0.0, 'update_freq': [1], 'stop_min_lr': -1.0},\r\n",
      " 'optimizer': {'_name': 'adam', 'adam_betas': '(0.9, 0.98)', 'adam_eps': 1e-08, 'weight_decay': 0.0, 'use_old_adam': False, 'lr': [5e-05]},\r\n",
      " 'task': {'_name': 'ecg_classification', 'data': 'D:/ECG/processed/physionet2021/manifests/cinc', 'leads_to_load': \"['i', 'ii']\", 'leads_bucket': None, 'bucket_selection': 'uniform', 'sample_rate': None, 'filter': False, 'normalize': False, 'mean_path': None, 'std_path': None, 'enable_padding': True, 'enable_padding_leads': True, 'max_sample_size': None, 'min_sample_size': None, 'num_batch_buckets': 0, 'precompute_mask_indices': False, 'perturbation_mode': None, 'p': [1.0], 'max_amplitude': 0.1, 'min_amplitude': 0.0, 'dependency': True, 'shift_ratio': 0.2, 'num_segment': 1, 'max_freq': 0.2, 'min_freq': 0.01, 'k': 3, 'mask_leads_selection': 'random', 'mask_leads_prob': 0.5, 'mask_leads_condition': [4, 5], 'inferred_w2v_config': None, 'inferred_3kg_config': None, 'criterion_name': 'binary_cross_entropy_with_logits', 'model_name': None, 'clocs_mode': None, 'path_dataset': False, 'load_specific_lead': False}}\r\n",
      "[2023-04-29 22:31:33,142][fairseq_signals.data.ecg.raw_ecg_dataset][INFO] - loaded 2063, skipped 0 samples\r\n",
      "[2023-04-29 22:31:33,143][fairseq_cli.validate][INFO] - begin validation on valid subset\r\n",
      "[2023-04-29 22:32:03,031][valid][INFO] - {\"valid_loss\": \"4.455\", \"valid_nsignals\": \"2063\", \"valid_cinc_score\": \"0.577\", \"valid_accuracy\": \"0.04053\", \"valid_em_accuracy\": \"0.61852\", \"valid_partial_accuracy\": \"0.72235\", \"valid_precision\": \"1\", \"valid_recall\": \"0.69479\", \"valid_f1\": \"0.819913\"}\r\n",
      "[2023-04-29 22:32:03,051][fairseq_signals.data.ecg.raw_ecg_dataset][INFO] - loaded 2063, skipped 0 samples\r\n",
      "[2023-04-29 22:32:03,052][fairseq_cli.validate][INFO] - begin validation on test subset\r\n",
      "[2023-04-29 22:32:33,447][test][INFO] - {\"test_loss\": \"4.478\", \"test_nsignals\": \"2063\", \"test_cinc_score\": \"0.581\", \"test_accuracy\": \"0.04081\", \"test_em_accuracy\": \"0.63354\", \"test_partial_accuracy\": \"0.73018\", \"test_precision\": \"1\", \"test_recall\": \"0.70093\", \"test_f1\": \"0.824173\"}\r\n",
      "\n"
     ]
    }
   ],
   "source": [
    "result = subprocess.run(cmd, stdout=subprocess.PIPE, shell=True)\n",
    "print(result.stdout.decode('utf-8'))"
   ]
  },
  {
   "cell_type": "code",
   "execution_count": null,
   "id": "d731e1b9",
   "metadata": {},
   "outputs": [],
   "source": []
  }
 ],
 "metadata": {
  "kernelspec": {
   "display_name": "Python 3 (ipykernel)",
   "language": "python",
   "name": "python3"
  },
  "language_info": {
   "codemirror_mode": {
    "name": "ipython",
    "version": 3
   },
   "file_extension": ".py",
   "mimetype": "text/x-python",
   "name": "python",
   "nbconvert_exporter": "python",
   "pygments_lexer": "ipython3",
   "version": "3.9.13"
  }
 },
 "nbformat": 4,
 "nbformat_minor": 5
}
